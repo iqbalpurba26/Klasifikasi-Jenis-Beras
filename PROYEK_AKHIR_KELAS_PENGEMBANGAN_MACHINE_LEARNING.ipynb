version https://git-lfs.github.com/spec/v1
oid sha256:3bd3df16364e7b5f02717ca77af342ca181d53bac935c1b28f4bfbce961ba56c
size 169114
